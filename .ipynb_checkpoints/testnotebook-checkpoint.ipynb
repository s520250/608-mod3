{
 "cells": [
  {
   "cell_type": "code",
   "execution_count": 10,
   "id": "34f96e4b-5a8d-4bc6-8ec1-8341fc3319b8",
   "metadata": {},
   "outputs": [],
   "source": [
    "def maximum(value1, value2, value3):\n",
    "    \"\"\"Return the maximum of three values.\"\"\"\n",
    "    max_value = value1\n",
    "    if value2 > max_value:\n",
    "        max_value = value2\n",
    "    if value3 > max_value:\n",
    "        max_value = value3\n",
    "    return max_value"
   ]
  },
  {
   "cell_type": "code",
   "execution_count": 11,
   "id": "ccd046b1-fdca-4c98-8bf3-aaa7fc8a64c7",
   "metadata": {},
   "outputs": [
    {
     "data": {
      "text/plain": [
       "77"
      ]
     },
     "execution_count": 11,
     "metadata": {},
     "output_type": "execute_result"
    }
   ],
   "source": [
    "maximum(35, 48, 77)"
   ]
  },
  {
   "cell_type": "code",
   "execution_count": 12,
   "id": "4efb7a4a-cdd4-49a7-b224-3db2cc4d9cd9",
   "metadata": {},
   "outputs": [
    {
     "data": {
      "text/plain": [
       "77"
      ]
     },
     "execution_count": 12,
     "metadata": {},
     "output_type": "execute_result"
    }
   ],
   "source": [
    "max(35, 48, 77)"
   ]
  },
  {
   "cell_type": "code",
   "execution_count": 35,
   "id": "e42ec01b-5a01-4731-b2f5-7724ab250da9",
   "metadata": {},
   "outputs": [],
   "source": [
    "def minimum(value1, value2, value3):\n",
    "    \"\"\"Return the minimum of three values.\"\"\"\n",
    "    min_value = value1\n",
    "    if value2 < min_value:\n",
    "        min_value = value2\n",
    "    if value3 < min_value:\n",
    "        min_value = value3\n",
    "    return min_value"
   ]
  },
  {
   "cell_type": "code",
   "execution_count": 36,
   "id": "c7ed752d-c947-4ff1-91c5-8b1865f3e071",
   "metadata": {},
   "outputs": [
    {
     "data": {
      "text/plain": [
       "35"
      ]
     },
     "execution_count": 36,
     "metadata": {},
     "output_type": "execute_result"
    }
   ],
   "source": [
    "minimum(35, 48, 77)"
   ]
  },
  {
   "cell_type": "code",
   "execution_count": 19,
   "id": "44141e17-494e-4260-b3a9-0f24397379e5",
   "metadata": {},
   "outputs": [
    {
     "data": {
      "text/plain": [
       "35"
      ]
     },
     "execution_count": 19,
     "metadata": {},
     "output_type": "execute_result"
    }
   ],
   "source": [
    "min(35, 48, 77)"
   ]
  },
  {
   "cell_type": "code",
   "execution_count": 22,
   "id": "c5ce00fd-bd5f-4675-8eda-fe11c65cd41b",
   "metadata": {},
   "outputs": [
    {
     "data": {
      "text/plain": [
       "36"
      ]
     },
     "execution_count": 22,
     "metadata": {},
     "output_type": "execute_result"
    }
   ],
   "source": [
    "maximum(12, 27, 36)"
   ]
  },
  {
   "cell_type": "code",
   "execution_count": 23,
   "id": "8075a8c9-6372-43b5-ab32-9aba696349e1",
   "metadata": {},
   "outputs": [
    {
     "data": {
      "text/plain": [
       "36"
      ]
     },
     "execution_count": 23,
     "metadata": {},
     "output_type": "execute_result"
    }
   ],
   "source": [
    "max(12, 27, 36)"
   ]
  },
  {
   "cell_type": "code",
   "execution_count": 25,
   "id": "b7e27e4f-123d-46c2-9afb-1c4f7a79f080",
   "metadata": {},
   "outputs": [
    {
     "data": {
      "text/plain": [
       "9"
      ]
     },
     "execution_count": 25,
     "metadata": {},
     "output_type": "execute_result"
    }
   ],
   "source": [
    "min(15, 9, 27, 14)"
   ]
  },
  {
   "cell_type": "code",
   "execution_count": 26,
   "id": "0e76f356-7c33-405a-9848-59050d1d9498",
   "metadata": {},
   "outputs": [
    {
     "ename": "TypeError",
     "evalue": "minimum() takes 3 positional arguments but 4 were given",
     "output_type": "error",
     "traceback": [
      "\u001b[1;31m---------------------------------------------------------------------------\u001b[0m",
      "\u001b[1;31mTypeError\u001b[0m                                 Traceback (most recent call last)",
      "Input \u001b[1;32mIn [26]\u001b[0m, in \u001b[0;36m<module>\u001b[1;34m\u001b[0m\n\u001b[1;32m----> 1\u001b[0m \u001b[43mminimum\u001b[49m\u001b[43m(\u001b[49m\u001b[38;5;241;43m15\u001b[39;49m\u001b[43m,\u001b[49m\u001b[43m \u001b[49m\u001b[38;5;241;43m9\u001b[39;49m\u001b[43m,\u001b[49m\u001b[43m \u001b[49m\u001b[38;5;241;43m27\u001b[39;49m\u001b[43m,\u001b[49m\u001b[43m \u001b[49m\u001b[38;5;241;43m14\u001b[39;49m\u001b[43m)\u001b[49m\n",
      "\u001b[1;31mTypeError\u001b[0m: minimum() takes 3 positional arguments but 4 were given"
     ]
    }
   ],
   "source": [
    "minimum(15, 9, 27, 14)"
   ]
  },
  {
   "cell_type": "code",
   "execution_count": 3,
   "id": "169a5184-953d-4ce1-ad0e-0deec6e377dc",
   "metadata": {},
   "outputs": [],
   "source": [
    "import random"
   ]
  },
  {
   "cell_type": "code",
   "execution_count": 12,
   "id": "81a8fe41-3dd4-4373-9381-5435b75c2f37",
   "metadata": {},
   "outputs": [],
   "source": [
    "frequency1 = 0\n",
    "frequency2 = 0\n",
    "frequency3 = 0\n",
    "frequency4 = 0\n",
    "frequency5 = 0\n",
    "frequency6 = 0\n",
    "frequency7 = 0\n",
    "frequency8 = 0\n",
    "frequency9 = 0\n",
    "frequency10 = 0\n",
    "frequency11 = 0\n",
    "frequency12 = 0"
   ]
  },
  {
   "cell_type": "code",
   "execution_count": 25,
   "id": "66debc81-2207-4241-aea7-064f87383832",
   "metadata": {},
   "outputs": [],
   "source": [
    "for roll in range(6_000_000):\n",
    "    face = random.randrange(1, 7) + random.randrange(1, 7)\n",
    "    \n",
    "    # increment appropriate face counter\n",
    "    if face == 1:\n",
    "        frequency1 += 1\n",
    "    elif face == 2:\n",
    "        frequency2 += 1\n",
    "    elif face == 3:\n",
    "        frequency3 += 1\n",
    "    elif face == 4:\n",
    "        frequency4 += 1\n",
    "    elif face == 5:\n",
    "        frequency5 += 1\n",
    "    elif face == 6:\n",
    "        frequency6 += 1\n",
    "    elif face == 7:\n",
    "        frequency7 += 1\n",
    "    elif face == 8:\n",
    "        frequency8 += 1\n",
    "    elif face == 9:\n",
    "        frequency9 += 1\n",
    "    elif face == 10:\n",
    "        frequency10 += 1\n",
    "    elif face == 11:\n",
    "        frequency11 += 1\n",
    "    elif face == 12:\n",
    "        frequency12 += 1"
   ]
  },
  {
   "cell_type": "code",
   "execution_count": 26,
   "id": "6cace480-d33b-458e-a27f-22fa8166b2f8",
   "metadata": {},
   "outputs": [
    {
     "name": "stdout",
     "output_type": "stream",
     "text": [
      "Face    Frequency\n",
      "   1            0\n",
      "   2       166738\n",
      "   3       333387\n",
      "   4       500723\n",
      "   5       666684\n",
      "   6       833424\n",
      "   7       999048\n",
      "   8       832570\n",
      "   9       668341\n",
      "  10       499796\n",
      "  11       332545\n",
      "  12       166747\n"
     ]
    }
   ],
   "source": [
    "print(f'Face{\"Frequency\":>13}')\n",
    "print(f'{1:>4}{frequency1:>13}')\n",
    "print(f'{2:>4}{frequency2:>13}')\n",
    "print(f'{3:>4}{frequency3:>13}')\n",
    "print(f'{4:>4}{frequency4:>13}')\n",
    "print(f'{5:>4}{frequency5:>13}')\n",
    "print(f'{6:>4}{frequency6:>13}')\n",
    "print(f'{7:>4}{frequency7:>13}')\n",
    "print(f'{8:>4}{frequency8:>13}')\n",
    "print(f'{9:>4}{frequency9:>13}')\n",
    "print(f'{10:>4}{frequency10:>13}')\n",
    "print(f'{11:>4}{frequency11:>13}')\n",
    "print(f'{12:>4}{frequency12:>13}')"
   ]
  },
  {
   "cell_type": "code",
   "execution_count": 27,
   "id": "de7e9f60-c4c6-4a65-b294-99d8a4c676e6",
   "metadata": {},
   "outputs": [],
   "source": [
    "craps = frequency2 + frequency3 + frequency12"
   ]
  },
  {
   "cell_type": "code",
   "execution_count": 28,
   "id": "39c257f1-212e-4bfe-826e-18e4e0ceefee",
   "metadata": {},
   "outputs": [],
   "source": [
    "wins = frequency7 + frequency11"
   ]
  },
  {
   "cell_type": "code",
   "execution_count": 29,
   "id": "3e55bd4e-8923-44ba-8ffe-dfe6b6ce367d",
   "metadata": {},
   "outputs": [
    {
     "name": "stdout",
     "output_type": "stream",
     "text": [
      "Total Craps: 0.11114533333333333\n"
     ]
    }
   ],
   "source": [
    "print('Total Craps:', craps/6_000_000)"
   ]
  },
  {
   "cell_type": "code",
   "execution_count": 30,
   "id": "90f33a4a-3d9c-467d-b91a-08ad00fc8154",
   "metadata": {},
   "outputs": [
    {
     "name": "stdout",
     "output_type": "stream",
     "text": [
      "Total Wins: 0.22193216666666668\n"
     ]
    }
   ],
   "source": [
    "print('Total Wins:', wins/6_000_000)"
   ]
  }
 ],
 "metadata": {
  "kernelspec": {
   "display_name": "Python 3 (ipykernel)",
   "language": "python",
   "name": "python3"
  },
  "language_info": {
   "codemirror_mode": {
    "name": "ipython",
    "version": 3
   },
   "file_extension": ".py",
   "mimetype": "text/x-python",
   "name": "python",
   "nbconvert_exporter": "python",
   "pygments_lexer": "ipython3",
   "version": "3.9.7"
  }
 },
 "nbformat": 4,
 "nbformat_minor": 5
}
